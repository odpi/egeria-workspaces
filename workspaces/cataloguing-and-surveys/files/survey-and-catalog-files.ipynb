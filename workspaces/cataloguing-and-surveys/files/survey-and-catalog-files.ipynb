{
 "cells": [
  {
   "cell_type": "markdown",
   "id": "bbf73747-32b1-4088-9720-b5dcb7d5bbd1",
   "metadata": {},
   "source": [
    "<!-- SPDX-License-Identifier: CC-BY-4.0 -->\n",
    "<!-- Copyright Contributors to the ODPi Egeria project 2024. -->\n",
    "\n",
    "![Egeria Logo](https://raw.githubusercontent.com/odpi/egeria/main/assets/img/ODPi_Egeria_Logo_color.png)\n",
    "\n",
    "### Egeria Workbook\n",
    "\n",
    "# Cataloguing and surveying files\n",
    "\n",
    "## Introduction\n",
    "\n",
    "This workbook explains how to survey and catalog files in a file system.  Files are used for many purposes in data management.  A single file may contain an entire database with many tables and columns, or it may represent a single row of data in a table.  The contents themselves may be encoded in different formats.  The result is a large variation in the business value of a file-full of data.\n",
    "\n",
    "Egeria's file system survey service helps to identify where the most valuable files are located in your file systems.  It produces a report that shows the types of files that you have, classified in multiple ways, their size and an assessment of which files have been read, updated and deleted recently.\n",
    "\n",
    "Egeria's file system catalog service creates [asset](https://egeria-project.org/concepts/asset/) entries in open metadata, making it possible for data professionals to search for and locate files for their projects.  The catalog service works independently to the survey service.  It also captures the same information about each file as the survey service.  So if you want to catalog all files, you can use the catalog service without using the survey service first.  However, if you suspect that many files are of no interest to your data professionals, the information from the survey service can be used to configure the catalog service to ensure only potentially interesting files are catalogued.\n",
    "\n",
    "The file system catalog service is able to catalog:\n",
    "\n",
    "* The files in a specific directory (folder)\n",
    "* The subdirectories nested under a specific directory\n",
    "* The files and folders nested under a specific directory.\n",
    "\n",
    "Once a file is catalogued in open metadata, it is possible, for certain types of files, to survey their contents.\n",
    "\n",
    "This workbook uses Egeria's python libaries called *pyegeria* to activate different types of surveys and cataloguing, and then to view the results.  The code below activates pyegeria.\n",
    "\n",
    "----"
   ]
  },
  {
   "cell_type": "code",
   "execution_count": null,
   "id": "448b3b48-1ecf-49da-9445-117fdd9e24fb",
   "metadata": {},
   "outputs": [],
   "source": [
    "# Initialize pyegeria\n",
    "\n",
    "%run ../../pyegeria/initialize-pyegeria.ipynb\n"
   ]
  },
  {
   "cell_type": "markdown",
   "id": "ef9ecdcf-83de-438e-b105-d6d63ec278d0",
   "metadata": {},
   "source": [
    "----\n",
    "\n",
    "This next cell creates a pyegeria client that is used to access the function that is designed for technical people, *EgeriaTech*.  It also requests an access token which is used for each call to Egeria's Open Metadata and Governance services.  The token times-out in about an hour.  So you can always rerun this cell to get a new token.\n",
    "\n",
    "-----"
   ]
  },
  {
   "cell_type": "code",
   "execution_count": null,
   "id": "4873e770-1e1c-477d-ae0c-0855b25445f4",
   "metadata": {},
   "outputs": [],
   "source": [
    "\n",
    "egeria_tech = EgeriaTech(view_server, url, user_id, user_pwd)\n",
    "token = egeria_tech.create_egeria_bearer_token()\n"
   ]
  },
  {
   "cell_type": "markdown",
   "id": "95b6e004-2689-4124-b8af-1693fe77c47a",
   "metadata": {},
   "source": [
    "----\n",
    "\n",
    "To find out the names of the file system services, you can use the *find_elements_by_property_value()* method.  The call below displays the help for this function.\n",
    "\n",
    "----"
   ]
  },
  {
   "cell_type": "code",
   "execution_count": null,
   "id": "0c2e6767-1c8e-4498-bc12-ec0ee5798917",
   "metadata": {},
   "outputs": [],
   "source": [
    "help(EgeriaTech.find_elements_by_property_value)"
   ]
  },
  {
   "cell_type": "markdown",
   "id": "9abfebd4-4dbb-405f-98b8-a4032010da2f",
   "metadata": {},
   "source": [
    "----\n",
    "\n",
    "The code below calls *find_elements_by_property_value()* to request details of the [Governance Action Processes](https://egeria-project.org/concepts/governance-action-process/) that work with file systems. \n",
    "\n",
    "----"
   ]
  },
  {
   "cell_type": "code",
   "execution_count": null,
   "id": "2a9ad640-d061-4f62-8bcb-8221c1711afb",
   "metadata": {},
   "outputs": [],
   "source": [
    "\n",
    "elements = egeria_tech.find_elements_by_property_value(property_value=\"FileDirectory\", property_names=['name'], open_metadata_type_name=\"GovernanceActionProcess\")\n",
    "if type(elements) == str:\n",
    "    print (elements)\n",
    "else:\n",
    "    for element in elements:\n",
    "        if element:\n",
    "            properties=element.get('properties')\n",
    "            if properties:\n",
    "                qualifiedName=properties.get('qualifiedName')\n",
    "                description=properties.get('description')\n",
    "                print('* ' + qualifiedName + ' - ' + description)\n",
    "    "
   ]
  },
  {
   "cell_type": "markdown",
   "id": "f2a9dd03-be93-4659-a6e4-c925e549cf68",
   "metadata": {},
   "source": [
    "----\n",
    "\n",
    "Governance action processes combine governance actions that are often together into a flow that can be executed in a single command.  For example, the *FileDirectory:CreateAndSurveyGovernanceActionProcess* is a three step process as follows:\n",
    "\n",
    "* It creates an asset entry to represent the top level directory to survey.\n",
    "* It runs the survey.  The results are linked to the asset created in the first step.\n",
    "* It creates a survey report markdown document based on the results of the survey.  This is stored in `/distribution-hub/surveys/survey-reports`.\n",
    "\n",
    "The information needed to run the survey (such as, which directory to start in) is listed in the specification.  The *supportedRequestParameters* identify the names of the values to supply in the request parameters passed to the process when it runs.\n",
    "\n",
    "----"
   ]
  },
  {
   "cell_type": "code",
   "execution_count": null,
   "id": "a888b3cc-52fa-420c-ba13-ddfc56c94bb5",
   "metadata": {},
   "outputs": [],
   "source": [
    "\n",
    "createAndSurveyProcessName=\"FileDirectory:CreateAndSurveyGovernanceActionProcess\"\n",
    "\n",
    "process_guid = egeria_tech.get_element_guid_by_unique_name(createAndSurveyProcessName)\n",
    "\n",
    "process_graph = egeria_tech.get_gov_action_process_graph(process_guid)\n",
    "print_governance_action_process_graph(process_graph)\n"
   ]
  },
  {
   "cell_type": "markdown",
   "id": "06fc27eb-9fbc-48b1-a147-e9cfd13276fe",
   "metadata": {},
   "source": [
    "----\n",
    "\n",
    "Below is the command that executes the survey.  It is set up to survey the files that are part of Egeria's deployment.  \n",
    "\n",
    "You can change the name of the directory to survey by changing *directoryPathName* and *directoryName*.  It has to be a directory that is reachable from Egeria's runtime where the survey executes.\n",
    "\n",
    "----"
   ]
  },
  {
   "cell_type": "code",
   "execution_count": null,
   "id": "85afa50c-774e-441f-a0e7-9fa17766f3c6",
   "metadata": {},
   "outputs": [],
   "source": [
    "requestParameters = {\n",
    "    \"fileSystemName\" : \"Egeria Deployment\",\n",
    "    \"directoryPathName\" : \".\",\n",
    "    \"directoryName\" : \"platform\",\n",
    "    \"versionIdentifier\" : \"1.0\",\n",
    "    \"description\" : \"Files used to deploy Egeria.\"\n",
    "}\n",
    "\n",
    "instance_guid = egeria_tech.initiate_gov_action_process(createAndSurveyProcessName, None, None, None, requestParameters, None, None)\n",
    "print(instance_guid)"
   ]
  },
  {
   "cell_type": "markdown",
   "id": "da03715a-8d70-4589-8b1f-671bdb568dae",
   "metadata": {},
   "source": [
    "----\n",
    "\n",
    "The command below lists the outcome of the survey request. \n",
    "\n",
    "----"
   ]
  },
  {
   "cell_type": "code",
   "execution_count": null,
   "id": "88582ac5-6fc9-42be-a9ec-1944ac53196f",
   "metadata": {},
   "outputs": [],
   "source": [
    "\n",
    "display_engine_activity_c()\n"
   ]
  },
  {
   "cell_type": "code",
   "execution_count": null,
   "id": "7c693cfa-478c-4e9d-a65a-a0878e041b85",
   "metadata": {},
   "outputs": [],
   "source": []
  },
  {
   "cell_type": "code",
   "execution_count": null,
   "id": "4ac3d87c-d529-4f56-97a3-aa5013bf3414",
   "metadata": {},
   "outputs": [],
   "source": []
  },
  {
   "cell_type": "code",
   "execution_count": null,
   "id": "16b7ee0f-bbbe-4fe5-b063-864fe2544ad7",
   "metadata": {},
   "outputs": [],
   "source": []
  }
 ],
 "metadata": {
  "kernelspec": {
   "display_name": "Python 3 (ipykernel)",
   "language": "python",
   "name": "python3"
  },
  "language_info": {
   "codemirror_mode": {
    "name": "ipython",
    "version": 3
   },
   "file_extension": ".py",
   "mimetype": "text/x-python",
   "name": "python",
   "nbconvert_exporter": "python",
   "pygments_lexer": "ipython3",
   "version": "3.13.7"
  }
 },
 "nbformat": 4,
 "nbformat_minor": 5
}
